{
 "cells": [
  {
   "cell_type": "markdown",
   "metadata": {},
   "source": [
    "### nVidia Jetson Nano :"
   ]
  },
  {
   "cell_type": "markdown",
   "metadata": {},
   "source": [
    "- `The NVIDIA® Jetson Nano™ Developer Kit is a small AI computer for makers, learners, and developers. It's useful for building practical AI applications, cool AI robots, and more.`"
   ]
  },
  {
   "cell_type": "markdown",
   "metadata": {},
   "source": [
    "https://developer.nvidia.com/embedded/learn/get-started-jetson-nano-devkit"
   ]
  },
  {
   "cell_type": "markdown",
   "metadata": {},
   "source": [
    "![title](JetsonNano.png)\n"
   ]
  },
  {
   "cell_type": "markdown",
   "metadata": {},
   "source": [
    "![title](details.png)"
   ]
  },
  {
   "cell_type": "markdown",
   "metadata": {},
   "source": [
    "#### 1. microSD card slot for main storage :"
   ]
  },
  {
   "cell_type": "markdown",
   "metadata": {},
   "source": [
    "https://www.expertreviews.co.uk/storage/1404380/how-to-choose-an-sd-card-class-and-speed-ratings-explained"
   ]
  },
  {
   "cell_type": "markdown",
   "metadata": {},
   "source": [
    "**SD vs SDHC vs SDXC**"
   ]
  },
  {
   "cell_type": "markdown",
   "metadata": {},
   "source": [
    "- `The SDHC stands for ‘Secure Digital High Capacity’. This was initially introduced to cover SD cards with a capacity above 2GB and below 32GB. The latter stands for ‘Secure Digital eXtra Capacity’, which go far beyond 32GB in size. You can buy SDXC cards with a whopping 2TB of storage.`"
   ]
  },
  {
   "cell_type": "markdown",
   "metadata": {},
   "source": [
    "![title](cards.png)"
   ]
  },
  {
   "cell_type": "markdown",
   "metadata": {},
   "source": [
    "***`A boot device is any piece of hardware that can read or contains the files required for a computer to start. For example, a hard drive, floppy disk drive, CD-ROM drive, DVD drive, and USB jump drive are all considered bootable devices.`***"
   ]
  },
  {
   "cell_type": "markdown",
   "metadata": {},
   "source": [
    "#### 2. 40-pin expansion header"
   ]
  },
  {
   "cell_type": "markdown",
   "metadata": {},
   "source": [
    "- `Jetson TX1, TX2, AGX Xavier, and Nano development boards contain a 40 pin GPIO header, similar to the 40 pin header in the Raspberry Pi. These GPIOs can be controlled for digital input and output using the Python library provided in the Jetson GPIO Library package. The library has the same API as the RPi.GPIO library for Raspberry Pi in order to provide an easy way to move applications running on the Raspberry Pi to the Jetson board.`"
   ]
  },
  {
   "cell_type": "markdown",
   "metadata": {},
   "source": [
    "![title](Raspberry-Pi-GPIO-Layout-Model-B-Plus-rotated-2700x900.png)"
   ]
  },
  {
   "cell_type": "markdown",
   "metadata": {},
   "source": [
    "- `GPIO stands for General Purpose Input/Output. It's a standard interface used to connect microcontrollers to other electronic devices. For example, it can be used with sensors, diodes, displays, and System-on-Chip modules.`"
   ]
  },
  {
   "cell_type": "markdown",
   "metadata": {},
   "source": [
    "- The Pin marked “P1” is Pin 1 and provides 3.3V (50mA max). You can work out all the other pins from there. Note how the numbering works. Even numbers on the top row and odd numbers on the bottom row."
   ]
  },
  {
   "cell_type": "markdown",
   "metadata": {},
   "source": [
    "**The GPIO header provides the following power and interface options :**\n",
    "\n",
    "- 3.3V (on 2 pins)\n",
    "- 5V (on 2 pins)\n",
    "- Ground (on 8 pins)\n",
    "- General purpose input and output\n",
    "- PWM (pulse width modulation)\n",
    "- I2C\n",
    "- I2S\n",
    "- SPI\n",
    "- Serial\n",
    "\n",
    "These allow a massive range of sensors, motors, LEDs and accessories to be connected to the Pi."
   ]
  },
  {
   "cell_type": "markdown",
   "metadata": {},
   "source": [
    "**The Jetson GPIO library package contains the following:**\n",
    "\n",
    "- ***The `lib/python/` subdirectory contains the Python modules that implement all library functionality. The `gpio.py`module is the main component that will be imported into an application and provides the needed APIs. The `gpio_event.py` and `gpio_pin_data.py` modules are used by the `gpio.py` module and must not be imported directly in to an application.***\n",
    "\n",
    "The `samples/ subdirectory` contains sample applications to help in getting familiar with the library API and getting started on an application. The `simple_input.py` and `simple_output.py` applications show how to perform read and write to a GPIO pin respectively, while the `button_led.py`, `button_event.py` and `button_interrupt.py` show how a button press may be used to blink an LED using busy-waiting, blocking wait and interrupt callbacks respectively."
   ]
  },
  {
   "cell_type": "markdown",
   "metadata": {},
   "source": [
    "#### 3.Micro-USB port for 5V power input or for data"
   ]
  },
  {
   "cell_type": "markdown",
   "metadata": {},
   "source": [
    "https://www.jetsonhacks.com/2019/04/10/jetson-nano-use-more-power/"
   ]
  },
  {
   "cell_type": "markdown",
   "metadata": {},
   "source": [
    "https://desertbot.io/blog/jetson-nano-power-supply-barrel-vs-micro-usb"
   ]
  },
  {
   "cell_type": "markdown",
   "metadata": {},
   "source": [
    "- `When you get a Jetson Nano Developer Kit, the first thing you need to figure out is how to power it. Should you use the Micro USB port with the same 5V 2.5A power supply you use on a Raspberry Pi? Or should you invest in a 5V 4A barrel jack power supply? Here's the short answer:`\n",
    "\n",
    "\n",
    "- `Power your Jetson Nano with a 5V 4A barrel jack supply. You might also want to invest in a powered USB hub to take the strain off the main power supply. This is especially true if you want to use the Nano as a desktop computer and run the advanced GPU simulations.`"
   ]
  },
  {
   "cell_type": "markdown",
   "metadata": {},
   "source": [
    "### nvpmodel :\n",
    "\n",
    "- No matter which power supply option you choose, you should first familiarize yourself with a command line utility called ***nvpmodel***. You'll want to make sure that you have this setup properly based on your power requirements.\n",
    "\n",
    "Whenever you startup your Nano you should query it using nvpmodel to see what model you are currently using, like this:\n",
    "\n",
    "        sudo nvpmodel -q"
   ]
  },
  {
   "cell_type": "markdown",
   "metadata": {},
   "source": [
    "#### 4.Gigabit Ethernet port"
   ]
  },
  {
   "cell_type": "markdown",
   "metadata": {},
   "source": [
    "- `An Ethernet cable is a common type of network cable used with wired networks. Ethernet cables connect devices such as PCs, routers, and switches within a local area network. These physical cables are limited by length and durability. If a network cable is too long or of poor quality, it won't carry a good network signal. These limits are one reason there are different types of Ethernet cables that are optimized to perform certain tasks in specific situations.`"
   ]
  },
  {
   "cell_type": "markdown",
   "metadata": {},
   "source": [
    "https://www.lifewire.com/what-is-an-ethernet-cable-817548"
   ]
  },
  {
   "cell_type": "markdown",
   "metadata": {},
   "source": [
    "![title](ethernet.png)"
   ]
  },
  {
   "cell_type": "markdown",
   "metadata": {},
   "source": [
    "#### 5.USB 3.0 ports (x4)"
   ]
  },
  {
   "cell_type": "markdown",
   "metadata": {},
   "source": [
    "https://www.techrepublic.com/blog/10-things/10-things-you-should-know-about-usb-20-and-30/"
   ]
  },
  {
   "cell_type": "markdown",
   "metadata": {},
   "source": [
    "#### 6.HDMI output port"
   ]
  },
  {
   "cell_type": "markdown",
   "metadata": {},
   "source": [
    "- `HDMI inputs are found on digital TVs and many home theater receivers. These inputs are designed to accept one end of an HDMI cable, through which audio and video are digitally transferred from the HDMI outputs of devices, such as Blu-ray players, game consoles and A/V receivers.`"
   ]
  },
  {
   "cell_type": "markdown",
   "metadata": {},
   "source": [
    "- `HDMI out ports provide a connection method between your receiver and an HDMI enabled monitor or other device. You can use HDMI cables to transmit audio and video signals from the receiver to your TV, computer or speaker system.`"
   ]
  },
  {
   "cell_type": "code",
   "execution_count": null,
   "metadata": {},
   "outputs": [],
   "source": []
  }
 ],
 "metadata": {
  "kernelspec": {
   "display_name": "Python 3",
   "language": "python",
   "name": "python3"
  },
  "language_info": {
   "codemirror_mode": {
    "name": "ipython",
    "version": 3
   },
   "file_extension": ".py",
   "mimetype": "text/x-python",
   "name": "python",
   "nbconvert_exporter": "python",
   "pygments_lexer": "ipython3",
   "version": "3.6.9"
  }
 },
 "nbformat": 4,
 "nbformat_minor": 2
}
